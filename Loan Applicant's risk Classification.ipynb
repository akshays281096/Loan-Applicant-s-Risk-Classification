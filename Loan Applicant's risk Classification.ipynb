{
 "cells": [
  {
   "cell_type": "markdown",
   "id": "9969ae9f",
   "metadata": {},
   "source": [
    "# Loan Applicant's Risk Classification"
   ]
  },
  {
   "cell_type": "markdown",
   "id": "14695e83",
   "metadata": {},
   "source": [
    "## Importing Required Libraries"
   ]
  },
  {
   "cell_type": "code",
   "execution_count": 1,
   "id": "7b259312",
   "metadata": {},
   "outputs": [],
   "source": [
    "import pandas as pd # for Data Frame\n",
    "import numpy as np # for Mathemetical Operations\n",
    "import matplotlib.pyplot as plt # for Data Visulization\n",
    "%matplotlib inline\n",
    "import seaborn as sns # for Data Visulization\n",
    "import warnings # for Ignoring Warnings\n",
    "warnings.filterwarnings('ignore')\n",
    "\n",
    "from sklearn.neighbors import KNeighborsClassifier # for KNN Algoritham\n",
    "from sklearn.model_selection import train_test_split # for split data in to Train and Test\n",
    "from sklearn.metrics import confusion_matrix, accuracy_score\n",
    "from sklearn.preprocessing import StandardScaler"
   ]
  },
  {
   "cell_type": "markdown",
   "id": "074f7ab8",
   "metadata": {},
   "source": [
    "## Part - 1 : Data Exploration and Pre-processing"
   ]
  },
  {
   "cell_type": "markdown",
   "id": "aef3905e",
   "metadata": {},
   "source": [
    "### 1) Load the given dataset"
   ]
  },
  {
   "cell_type": "code",
   "execution_count": 2,
   "id": "4bc134e0",
   "metadata": {},
   "outputs": [
    {
     "data": {
      "text/html": [
       "<div>\n",
       "<style scoped>\n",
       "    .dataframe tbody tr th:only-of-type {\n",
       "        vertical-align: middle;\n",
       "    }\n",
       "\n",
       "    .dataframe tbody tr th {\n",
       "        vertical-align: top;\n",
       "    }\n",
       "\n",
       "    .dataframe thead th {\n",
       "        text-align: right;\n",
       "    }\n",
       "</style>\n",
       "<table border=\"1\" class=\"dataframe\">\n",
       "  <thead>\n",
       "    <tr style=\"text-align: right;\">\n",
       "      <th></th>\n",
       "      <th>Age</th>\n",
       "      <th>Total Work Experience</th>\n",
       "      <th>Number of years in city</th>\n",
       "      <th>Cost to Request Ratio</th>\n",
       "      <th>Cibil score</th>\n",
       "      <th>Overdrafts past12months</th>\n",
       "      <th>Total bounces past12months</th>\n",
       "    </tr>\n",
       "  </thead>\n",
       "  <tbody>\n",
       "    <tr>\n",
       "      <th>0</th>\n",
       "      <td>40.50</td>\n",
       "      <td>2</td>\n",
       "      <td>6</td>\n",
       "      <td>0.842666</td>\n",
       "      <td>594</td>\n",
       "      <td>0</td>\n",
       "      <td>0</td>\n",
       "    </tr>\n",
       "    <tr>\n",
       "      <th>1</th>\n",
       "      <td>41.25</td>\n",
       "      <td>5</td>\n",
       "      <td>2</td>\n",
       "      <td>0.791667</td>\n",
       "      <td>754</td>\n",
       "      <td>0</td>\n",
       "      <td>0</td>\n",
       "    </tr>\n",
       "    <tr>\n",
       "      <th>2</th>\n",
       "      <td>39.50</td>\n",
       "      <td>5</td>\n",
       "      <td>2</td>\n",
       "      <td>0.727273</td>\n",
       "      <td>779</td>\n",
       "      <td>0</td>\n",
       "      <td>0</td>\n",
       "    </tr>\n",
       "    <tr>\n",
       "      <th>3</th>\n",
       "      <td>35.00</td>\n",
       "      <td>1</td>\n",
       "      <td>4</td>\n",
       "      <td>0.820232</td>\n",
       "      <td>818</td>\n",
       "      <td>0</td>\n",
       "      <td>0</td>\n",
       "    </tr>\n",
       "    <tr>\n",
       "      <th>4</th>\n",
       "      <td>34.00</td>\n",
       "      <td>3</td>\n",
       "      <td>3</td>\n",
       "      <td>0.455581</td>\n",
       "      <td>853</td>\n",
       "      <td>0</td>\n",
       "      <td>1</td>\n",
       "    </tr>\n",
       "  </tbody>\n",
       "</table>\n",
       "</div>"
      ],
      "text/plain": [
       "     Age  Total Work Experience  Number of years in city  \\\n",
       "0  40.50                      2                        6   \n",
       "1  41.25                      5                        2   \n",
       "2  39.50                      5                        2   \n",
       "3  35.00                      1                        4   \n",
       "4  34.00                      3                        3   \n",
       "\n",
       "   Cost to Request Ratio  Cibil score  Overdrafts past12months  \\\n",
       "0               0.842666          594                        0   \n",
       "1               0.791667          754                        0   \n",
       "2               0.727273          779                        0   \n",
       "3               0.820232          818                        0   \n",
       "4               0.455581          853                        0   \n",
       "\n",
       "   Total bounces past12months  \n",
       "0                           0  \n",
       "1                           0  \n",
       "2                           0  \n",
       "3                           0  \n",
       "4                           1  "
      ]
     },
     "execution_count": 2,
     "metadata": {},
     "output_type": "execute_result"
    }
   ],
   "source": [
    "df = pd.read_excel('Loan_Applicant_Risk_Classification.xlsx')\n",
    "df.head()"
   ]
  },
  {
   "cell_type": "markdown",
   "id": "661c3607",
   "metadata": {},
   "source": [
    "### 2) Check for null values"
   ]
  },
  {
   "cell_type": "code",
   "execution_count": 3,
   "id": "41db3782",
   "metadata": {},
   "outputs": [
    {
     "data": {
      "text/plain": [
       "Age                           0\n",
       "Total Work Experience         0\n",
       "Number of years in city       0\n",
       "Cost to Request Ratio         0\n",
       "Cibil score                   0\n",
       "Overdrafts past12months       0\n",
       "Total bounces past12months    0\n",
       "dtype: int64"
      ]
     },
     "execution_count": 3,
     "metadata": {},
     "output_type": "execute_result"
    }
   ],
   "source": [
    "df.isnull().sum()"
   ]
  },
  {
   "cell_type": "markdown",
   "id": "67c678e5",
   "metadata": {},
   "source": [
    "### 3) Get basic information from data"
   ]
  },
  {
   "cell_type": "code",
   "execution_count": 4,
   "id": "aa61854c",
   "metadata": {},
   "outputs": [
    {
     "name": "stdout",
     "output_type": "stream",
     "text": [
      "<class 'pandas.core.frame.DataFrame'>\n",
      "RangeIndex: 8995 entries, 0 to 8994\n",
      "Data columns (total 7 columns):\n",
      " #   Column                      Non-Null Count  Dtype  \n",
      "---  ------                      --------------  -----  \n",
      " 0   Age                         8995 non-null   float64\n",
      " 1   Total Work Experience       8995 non-null   int64  \n",
      " 2   Number of years in city     8995 non-null   int64  \n",
      " 3   Cost to Request Ratio       8995 non-null   float64\n",
      " 4   Cibil score                 8995 non-null   int64  \n",
      " 5   Overdrafts past12months     8995 non-null   int64  \n",
      " 6   Total bounces past12months  8995 non-null   int64  \n",
      "dtypes: float64(2), int64(5)\n",
      "memory usage: 492.0 KB\n"
     ]
    }
   ],
   "source": [
    "df.info()"
   ]
  },
  {
   "cell_type": "markdown",
   "id": "87c84c74",
   "metadata": {},
   "source": [
    "### 4) Describe the dataset"
   ]
  },
  {
   "cell_type": "code",
   "execution_count": 5,
   "id": "554200f5",
   "metadata": {},
   "outputs": [
    {
     "data": {
      "text/html": [
       "<div>\n",
       "<style scoped>\n",
       "    .dataframe tbody tr th:only-of-type {\n",
       "        vertical-align: middle;\n",
       "    }\n",
       "\n",
       "    .dataframe tbody tr th {\n",
       "        vertical-align: top;\n",
       "    }\n",
       "\n",
       "    .dataframe thead th {\n",
       "        text-align: right;\n",
       "    }\n",
       "</style>\n",
       "<table border=\"1\" class=\"dataframe\">\n",
       "  <thead>\n",
       "    <tr style=\"text-align: right;\">\n",
       "      <th></th>\n",
       "      <th>Age</th>\n",
       "      <th>Total Work Experience</th>\n",
       "      <th>Number of years in city</th>\n",
       "      <th>Cost to Request Ratio</th>\n",
       "      <th>Cibil score</th>\n",
       "      <th>Overdrafts past12months</th>\n",
       "      <th>Total bounces past12months</th>\n",
       "    </tr>\n",
       "  </thead>\n",
       "  <tbody>\n",
       "    <tr>\n",
       "      <th>count</th>\n",
       "      <td>8995.000000</td>\n",
       "      <td>8995.000000</td>\n",
       "      <td>8995.000000</td>\n",
       "      <td>8995.000000</td>\n",
       "      <td>8995.000000</td>\n",
       "      <td>8995.000000</td>\n",
       "      <td>8995.000000</td>\n",
       "    </tr>\n",
       "    <tr>\n",
       "      <th>mean</th>\n",
       "      <td>38.808202</td>\n",
       "      <td>2.131073</td>\n",
       "      <td>4.288160</td>\n",
       "      <td>0.831183</td>\n",
       "      <td>752.626570</td>\n",
       "      <td>0.322068</td>\n",
       "      <td>1.162757</td>\n",
       "    </tr>\n",
       "    <tr>\n",
       "      <th>std</th>\n",
       "      <td>10.203371</td>\n",
       "      <td>0.892141</td>\n",
       "      <td>1.269416</td>\n",
       "      <td>0.490216</td>\n",
       "      <td>67.645792</td>\n",
       "      <td>0.914998</td>\n",
       "      <td>2.352798</td>\n",
       "    </tr>\n",
       "    <tr>\n",
       "      <th>min</th>\n",
       "      <td>18.100000</td>\n",
       "      <td>1.000000</td>\n",
       "      <td>1.000000</td>\n",
       "      <td>0.008466</td>\n",
       "      <td>351.000000</td>\n",
       "      <td>0.000000</td>\n",
       "      <td>0.000000</td>\n",
       "    </tr>\n",
       "    <tr>\n",
       "      <th>25%</th>\n",
       "      <td>30.830000</td>\n",
       "      <td>1.000000</td>\n",
       "      <td>3.000000</td>\n",
       "      <td>0.662147</td>\n",
       "      <td>730.000000</td>\n",
       "      <td>0.000000</td>\n",
       "      <td>0.000000</td>\n",
       "    </tr>\n",
       "    <tr>\n",
       "      <th>50%</th>\n",
       "      <td>37.200000</td>\n",
       "      <td>2.000000</td>\n",
       "      <td>4.000000</td>\n",
       "      <td>0.800000</td>\n",
       "      <td>768.000000</td>\n",
       "      <td>0.000000</td>\n",
       "      <td>0.000000</td>\n",
       "    </tr>\n",
       "    <tr>\n",
       "      <th>75%</th>\n",
       "      <td>45.400000</td>\n",
       "      <td>3.000000</td>\n",
       "      <td>5.000000</td>\n",
       "      <td>0.930908</td>\n",
       "      <td>797.000000</td>\n",
       "      <td>0.000000</td>\n",
       "      <td>1.000000</td>\n",
       "    </tr>\n",
       "    <tr>\n",
       "      <th>max</th>\n",
       "      <td>83.800000</td>\n",
       "      <td>5.000000</td>\n",
       "      <td>6.000000</td>\n",
       "      <td>12.006623</td>\n",
       "      <td>882.000000</td>\n",
       "      <td>12.000000</td>\n",
       "      <td>12.000000</td>\n",
       "    </tr>\n",
       "  </tbody>\n",
       "</table>\n",
       "</div>"
      ],
      "text/plain": [
       "               Age  Total Work Experience  Number of years in city  \\\n",
       "count  8995.000000            8995.000000              8995.000000   \n",
       "mean     38.808202               2.131073                 4.288160   \n",
       "std      10.203371               0.892141                 1.269416   \n",
       "min      18.100000               1.000000                 1.000000   \n",
       "25%      30.830000               1.000000                 3.000000   \n",
       "50%      37.200000               2.000000                 4.000000   \n",
       "75%      45.400000               3.000000                 5.000000   \n",
       "max      83.800000               5.000000                 6.000000   \n",
       "\n",
       "       Cost to Request Ratio  Cibil score  Overdrafts past12months  \\\n",
       "count            8995.000000  8995.000000              8995.000000   \n",
       "mean                0.831183   752.626570                 0.322068   \n",
       "std                 0.490216    67.645792                 0.914998   \n",
       "min                 0.008466   351.000000                 0.000000   \n",
       "25%                 0.662147   730.000000                 0.000000   \n",
       "50%                 0.800000   768.000000                 0.000000   \n",
       "75%                 0.930908   797.000000                 0.000000   \n",
       "max                12.006623   882.000000                12.000000   \n",
       "\n",
       "       Total bounces past12months  \n",
       "count                 8995.000000  \n",
       "mean                     1.162757  \n",
       "std                      2.352798  \n",
       "min                      0.000000  \n",
       "25%                      0.000000  \n",
       "50%                      0.000000  \n",
       "75%                      1.000000  \n",
       "max                     12.000000  "
      ]
     },
     "execution_count": 5,
     "metadata": {},
     "output_type": "execute_result"
    }
   ],
   "source": [
    "df.describe()"
   ]
  },
  {
   "cell_type": "markdown",
   "id": "824549b4",
   "metadata": {},
   "source": [
    "### 5) Display Scatterplot between age & Total work Experience"
   ]
  },
  {
   "cell_type": "code",
   "execution_count": 6,
   "id": "90162d4b",
   "metadata": {},
   "outputs": [
    {
     "data": {
      "text/plain": [
       "<matplotlib.collections.PathCollection at 0x1b3b76b0fa0>"
      ]
     },
     "execution_count": 6,
     "metadata": {},
     "output_type": "execute_result"
    },
    {
     "data": {
      "image/png": "[encoded data removed]",
      "text/plain": [
       "<Figure size 432x288 with 1 Axes>"
      ]
     },
     "metadata": {
      "needs_background": "light"
     },
     "output_type": "display_data"
    }
   ],
   "source": [
    "plt.scatter(df.Age, df['Total Work Experience'] )"
   ]
  },
  {
   "cell_type": "markdown",
   "id": "c81e21f2",
   "metadata": {},
   "source": [
    "### 6) Display Box Plot for age"
   ]
  },
  {
   "cell_type": "code",
   "execution_count": 7,
   "id": "82125262",
   "metadata": {},
   "outputs": [
    {
     "data": {
      "text/plain": [
       "<AxesSubplot:xlabel='Age', ylabel='count'>"
      ]
     },
     "execution_count": 7,
     "metadata": {},
     "output_type": "execute_result"
    },
    {
     "data": {
      "image/png": "[encoded data removed]",
      "text/plain": [
       "<Figure size 432x288 with 1 Axes>"
      ]
     },
     "metadata": {
      "needs_background": "light"
     },
     "output_type": "display_data"
    }
   ],
   "source": [
    "sns.countplot(df.Age, data=df)"
   ]
  },
  {
   "cell_type": "markdown",
   "id": "3486b01f",
   "metadata": {},
   "source": [
    "### 7) Display box plot for Cibil Score"
   ]
  },
  {
   "cell_type": "code",
   "execution_count": 8,
   "id": "e96dd7bd",
   "metadata": {},
   "outputs": [
    {
     "data": {
      "text/plain": [
       "<AxesSubplot:xlabel='Cibil score', ylabel='count'>"
      ]
     },
     "execution_count": 8,
     "metadata": {},
     "output_type": "execute_result"
    },
    {
     "data": {
      "image/png": "[encoded data removed]",
      "text/plain": [
       "<Figure size 432x288 with 1 Axes>"
      ]
     },
     "metadata": {
      "needs_background": "light"
     },
     "output_type": "display_data"
    }
   ],
   "source": [
    "sns.countplot(df['Cibil score'], data=df)"
   ]
  },
  {
   "cell_type": "markdown",
   "id": "202567c6",
   "metadata": {},
   "source": [
    "### 8) Create target and feature data where target is Total bounces past12months"
   ]
  },
  {
   "cell_type": "code",
   "execution_count": 9,
   "id": "ac3d7f44",
   "metadata": {},
   "outputs": [],
   "source": [
    "x = df.drop(['Total bounces past12months'], axis=1)\n",
    "y = df[['Total bounces past12months']]"
   ]
  },
  {
   "cell_type": "code",
   "execution_count": 11,
   "id": "324b66cb",
   "metadata": {},
   "outputs": [
    {
     "data": {
      "text/html": [
       "<div>\n",
       "<style scoped>\n",
       "    .dataframe tbody tr th:only-of-type {\n",
       "        vertical-align: middle;\n",
       "    }\n",
       "\n",
       "    .dataframe tbody tr th {\n",
       "        vertical-align: top;\n",
       "    }\n",
       "\n",
       "    .dataframe thead th {\n",
       "        text-align: right;\n",
       "    }\n",
       "</style>\n",
       "<table border=\"1\" class=\"dataframe\">\n",
       "  <thead>\n",
       "    <tr style=\"text-align: right;\">\n",
       "      <th></th>\n",
       "      <th>Age</th>\n",
       "      <th>Total Work Experience</th>\n",
       "      <th>Number of years in city</th>\n",
       "      <th>Cost to Request Ratio</th>\n",
       "      <th>Cibil score</th>\n",
       "      <th>Overdrafts past12months</th>\n",
       "    </tr>\n",
       "  </thead>\n",
       "  <tbody>\n",
       "    <tr>\n",
       "      <th>0</th>\n",
       "      <td>40.50</td>\n",
       "      <td>2</td>\n",
       "      <td>6</td>\n",
       "      <td>0.842666</td>\n",
       "      <td>594</td>\n",
       "      <td>0</td>\n",
       "    </tr>\n",
       "    <tr>\n",
       "      <th>1</th>\n",
       "      <td>41.25</td>\n",
       "      <td>5</td>\n",
       "      <td>2</td>\n",
       "      <td>0.791667</td>\n",
       "      <td>754</td>\n",
       "      <td>0</td>\n",
       "    </tr>\n",
       "    <tr>\n",
       "      <th>2</th>\n",
       "      <td>39.50</td>\n",
       "      <td>5</td>\n",
       "      <td>2</td>\n",
       "      <td>0.727273</td>\n",
       "      <td>779</td>\n",
       "      <td>0</td>\n",
       "    </tr>\n",
       "    <tr>\n",
       "      <th>3</th>\n",
       "      <td>35.00</td>\n",
       "      <td>1</td>\n",
       "      <td>4</td>\n",
       "      <td>0.820232</td>\n",
       "      <td>818</td>\n",
       "      <td>0</td>\n",
       "    </tr>\n",
       "    <tr>\n",
       "      <th>4</th>\n",
       "      <td>34.00</td>\n",
       "      <td>3</td>\n",
       "      <td>3</td>\n",
       "      <td>0.455581</td>\n",
       "      <td>853</td>\n",
       "      <td>0</td>\n",
       "    </tr>\n",
       "  </tbody>\n",
       "</table>\n",
       "</div>"
      ],
      "text/plain": [
       "     Age  Total Work Experience  Number of years in city  \\\n",
       "0  40.50                      2                        6   \n",
       "1  41.25                      5                        2   \n",
       "2  39.50                      5                        2   \n",
       "3  35.00                      1                        4   \n",
       "4  34.00                      3                        3   \n",
       "\n",
       "   Cost to Request Ratio  Cibil score  Overdrafts past12months  \n",
       "0               0.842666          594                        0  \n",
       "1               0.791667          754                        0  \n",
       "2               0.727273          779                        0  \n",
       "3               0.820232          818                        0  \n",
       "4               0.455581          853                        0  "
      ]
     },
     "execution_count": 11,
     "metadata": {},
     "output_type": "execute_result"
    }
   ],
   "source": [
    "x.head()"
   ]
  },
  {
   "cell_type": "code",
   "execution_count": 12,
   "id": "dcf8822e",
   "metadata": {},
   "outputs": [
    {
     "data": {
      "text/html": [
       "<div>\n",
       "<style scoped>\n",
       "    .dataframe tbody tr th:only-of-type {\n",
       "        vertical-align: middle;\n",
       "    }\n",
       "\n",
       "    .dataframe tbody tr th {\n",
       "        vertical-align: top;\n",
       "    }\n",
       "\n",
       "    .dataframe thead th {\n",
       "        text-align: right;\n",
       "    }\n",
       "</style>\n",
       "<table border=\"1\" class=\"dataframe\">\n",
       "  <thead>\n",
       "    <tr style=\"text-align: right;\">\n",
       "      <th></th>\n",
       "      <th>Total bounces past12months</th>\n",
       "    </tr>\n",
       "  </thead>\n",
       "  <tbody>\n",
       "    <tr>\n",
       "      <th>0</th>\n",
       "      <td>0</td>\n",
       "    </tr>\n",
       "    <tr>\n",
       "      <th>1</th>\n",
       "      <td>0</td>\n",
       "    </tr>\n",
       "    <tr>\n",
       "      <th>2</th>\n",
       "      <td>0</td>\n",
       "    </tr>\n",
       "    <tr>\n",
       "      <th>3</th>\n",
       "      <td>0</td>\n",
       "    </tr>\n",
       "    <tr>\n",
       "      <th>4</th>\n",
       "      <td>1</td>\n",
       "    </tr>\n",
       "  </tbody>\n",
       "</table>\n",
       "</div>"
      ],
      "text/plain": [
       "   Total bounces past12months\n",
       "0                           0\n",
       "1                           0\n",
       "2                           0\n",
       "3                           0\n",
       "4                           1"
      ]
     },
     "execution_count": 12,
     "metadata": {},
     "output_type": "execute_result"
    }
   ],
   "source": [
    "y.head()"
   ]
  },
  {
   "cell_type": "markdown",
   "id": "32b5ccbd",
   "metadata": {},
   "source": [
    "## Part - 2 : Working with Model"
   ]
  },
  {
   "cell_type": "markdown",
   "id": "8a2d921d",
   "metadata": {},
   "source": [
    "### 1) Split Data into Training and Testing"
   ]
  },
  {
   "cell_type": "code",
   "execution_count": 13,
   "id": "19c72f25",
   "metadata": {},
   "outputs": [],
   "source": [
    "x_train, x_test, y_train, y_test = train_test_split(x, y, test_size=0.2, random_state=40)"
   ]
  },
  {
   "cell_type": "code",
   "execution_count": 14,
   "id": "ca1afc6a",
   "metadata": {},
   "outputs": [
    {
     "data": {
      "text/html": [
       "<div>\n",
       "<style scoped>\n",
       "    .dataframe tbody tr th:only-of-type {\n",
       "        vertical-align: middle;\n",
       "    }\n",
       "\n",
       "    .dataframe tbody tr th {\n",
       "        vertical-align: top;\n",
       "    }\n",
       "\n",
       "    .dataframe thead th {\n",
       "        text-align: right;\n",
       "    }\n",
       "</style>\n",
       "<table border=\"1\" class=\"dataframe\">\n",
       "  <thead>\n",
       "    <tr style=\"text-align: right;\">\n",
       "      <th></th>\n",
       "      <th>Age</th>\n",
       "      <th>Total Work Experience</th>\n",
       "      <th>Number of years in city</th>\n",
       "      <th>Cost to Request Ratio</th>\n",
       "      <th>Cibil score</th>\n",
       "      <th>Overdrafts past12months</th>\n",
       "    </tr>\n",
       "  </thead>\n",
       "  <tbody>\n",
       "    <tr>\n",
       "      <th>916</th>\n",
       "      <td>38.92</td>\n",
       "      <td>2</td>\n",
       "      <td>4</td>\n",
       "      <td>0.598792</td>\n",
       "      <td>838</td>\n",
       "      <td>0</td>\n",
       "    </tr>\n",
       "    <tr>\n",
       "      <th>6514</th>\n",
       "      <td>27.50</td>\n",
       "      <td>3</td>\n",
       "      <td>2</td>\n",
       "      <td>0.984255</td>\n",
       "      <td>759</td>\n",
       "      <td>0</td>\n",
       "    </tr>\n",
       "    <tr>\n",
       "      <th>8792</th>\n",
       "      <td>47.42</td>\n",
       "      <td>3</td>\n",
       "      <td>3</td>\n",
       "      <td>0.643990</td>\n",
       "      <td>725</td>\n",
       "      <td>0</td>\n",
       "    </tr>\n",
       "    <tr>\n",
       "      <th>4647</th>\n",
       "      <td>49.42</td>\n",
       "      <td>2</td>\n",
       "      <td>2</td>\n",
       "      <td>0.516859</td>\n",
       "      <td>827</td>\n",
       "      <td>0</td>\n",
       "    </tr>\n",
       "    <tr>\n",
       "      <th>171</th>\n",
       "      <td>47.92</td>\n",
       "      <td>1</td>\n",
       "      <td>4</td>\n",
       "      <td>0.844903</td>\n",
       "      <td>863</td>\n",
       "      <td>0</td>\n",
       "    </tr>\n",
       "  </tbody>\n",
       "</table>\n",
       "</div>"
      ],
      "text/plain": [
       "        Age  Total Work Experience  Number of years in city  \\\n",
       "916   38.92                      2                        4   \n",
       "6514  27.50                      3                        2   \n",
       "8792  47.42                      3                        3   \n",
       "4647  49.42                      2                        2   \n",
       "171   47.92                      1                        4   \n",
       "\n",
       "      Cost to Request Ratio  Cibil score  Overdrafts past12months  \n",
       "916                0.598792          838                        0  \n",
       "6514               0.984255          759                        0  \n",
       "8792               0.643990          725                        0  \n",
       "4647               0.516859          827                        0  \n",
       "171                0.844903          863                        0  "
      ]
     },
     "execution_count": 14,
     "metadata": {},
     "output_type": "execute_result"
    }
   ],
   "source": [
    "x_train.head()"
   ]
  },
  {
   "cell_type": "code",
   "execution_count": 15,
   "id": "8b5f81bd",
   "metadata": {},
   "outputs": [
    {
     "data": {
      "text/plain": [
       "(7196, 6)"
      ]
     },
     "execution_count": 15,
     "metadata": {},
     "output_type": "execute_result"
    }
   ],
   "source": [
    "x_train.shape"
   ]
  },
  {
   "cell_type": "code",
   "execution_count": 16,
   "id": "403d807b",
   "metadata": {},
   "outputs": [
    {
     "data": {
      "text/plain": [
       "(1799, 6)"
      ]
     },
     "execution_count": 16,
     "metadata": {},
     "output_type": "execute_result"
    }
   ],
   "source": [
    "x_test.shape"
   ]
  },
  {
   "cell_type": "code",
   "execution_count": 17,
   "id": "d01308d1",
   "metadata": {},
   "outputs": [
    {
     "data": {
      "text/plain": [
       "(7196, 1)"
      ]
     },
     "execution_count": 17,
     "metadata": {},
     "output_type": "execute_result"
    }
   ],
   "source": [
    "y_train.shape"
   ]
  },
  {
   "cell_type": "code",
   "execution_count": 18,
   "id": "a55dd461",
   "metadata": {},
   "outputs": [
    {
     "data": {
      "text/plain": [
       "(1799, 1)"
      ]
     },
     "execution_count": 18,
     "metadata": {},
     "output_type": "execute_result"
    }
   ],
   "source": [
    "y_test.shape"
   ]
  },
  {
   "cell_type": "markdown",
   "id": "89f161d2",
   "metadata": {},
   "source": [
    "### 2) Create KNN classifier between Feature and target data"
   ]
  },
  {
   "cell_type": "code",
   "execution_count": 19,
   "id": "b8db20d0",
   "metadata": {},
   "outputs": [],
   "source": [
    "knn = KNeighborsClassifier()"
   ]
  },
  {
   "cell_type": "code",
   "execution_count": 20,
   "id": "78e7b2b5",
   "metadata": {},
   "outputs": [
    {
     "data": {
      "text/plain": [
       "KNeighborsClassifier()"
      ]
     },
     "execution_count": 20,
     "metadata": {},
     "output_type": "execute_result"
    }
   ],
   "source": [
    "knn.fit(x_train, y_train)"
   ]
  },
  {
   "cell_type": "code",
   "execution_count": 21,
   "id": "cc2f0fad",
   "metadata": {},
   "outputs": [],
   "source": [
    "y_pred = knn.predict(x_test)"
   ]
  },
  {
   "cell_type": "markdown",
   "id": "a4fe2300",
   "metadata": {},
   "source": [
    "### 3) Display the test score"
   ]
  },
  {
   "cell_type": "code",
   "execution_count": 22,
   "id": "ebb60db6",
   "metadata": {},
   "outputs": [],
   "source": [
    "test_score = round(knn.score(x_test, y_test)*100, 2)"
   ]
  },
  {
   "cell_type": "code",
   "execution_count": 23,
   "id": "5dc0201d",
   "metadata": {},
   "outputs": [
    {
     "name": "stdout",
     "output_type": "stream",
     "text": [
      "Test Score:  62.92\n"
     ]
    }
   ],
   "source": [
    "print('Test Score: ', test_score)"
   ]
  },
  {
   "cell_type": "markdown",
   "id": "38c58516",
   "metadata": {},
   "source": [
    "### 4) Display the training score"
   ]
  },
  {
   "cell_type": "code",
   "execution_count": 24,
   "id": "4242d93e",
   "metadata": {},
   "outputs": [],
   "source": [
    "train_score = round(knn.score(x_train, y_train)*100, 2)"
   ]
  },
  {
   "cell_type": "code",
   "execution_count": 25,
   "id": "b2100de3",
   "metadata": {},
   "outputs": [
    {
     "name": "stdout",
     "output_type": "stream",
     "text": [
      "Train Score:  68.15\n"
     ]
    }
   ],
   "source": [
    "print('Train Score: ', train_score)"
   ]
  },
  {
   "cell_type": "markdown",
   "id": "f8593a2a",
   "metadata": {},
   "source": [
    "### 5) Print the accuracy score"
   ]
  },
  {
   "cell_type": "code",
   "execution_count": 26,
   "id": "94ed8ba9",
   "metadata": {},
   "outputs": [],
   "source": [
    "accuracy = round(accuracy_score(y_test, y_pred)*100, 2)"
   ]
  },
  {
   "cell_type": "code",
   "execution_count": 27,
   "id": "568f46ea",
   "metadata": {},
   "outputs": [
    {
     "name": "stdout",
     "output_type": "stream",
     "text": [
      "Accuracy Score:  62.92\n"
     ]
    }
   ],
   "source": [
    "print('Accuracy Score: ', accuracy)"
   ]
  },
  {
   "cell_type": "markdown",
   "id": "3e525233",
   "metadata": {},
   "source": [
    "### 6) Try 1 to 14 k values for classifiers"
   ]
  },
  {
   "cell_type": "code",
   "execution_count": 28,
   "id": "77c62a70",
   "metadata": {},
   "outputs": [],
   "source": [
    "train_scores=[]\n",
    "test_scores=[]\n",
    "\n",
    "for i in range(1,15):\n",
    "    \n",
    "    model = KNeighborsClassifier(i)\n",
    "    model.fit(x_train, y_train)\n",
    "    \n",
    "    train_scores.append(model.score(x_train, y_train))\n",
    "    test_scores.append(model.score(x_test, y_test))"
   ]
  },
  {
   "cell_type": "code",
   "execution_count": 29,
   "id": "84e606c2",
   "metadata": {},
   "outputs": [
    {
     "data": {
      "image/png": "[encoded data removed]",
      "text/plain": [
       "<Figure size 864x360 with 1 Axes>"
      ]
     },
     "metadata": {
      "needs_background": "light"
     },
     "output_type": "display_data"
    }
   ],
   "source": [
    "plt.figure(figsize=(12,5))\n",
    "p = sns.lineplot(range(1,15),train_scores,marker='*',label='Train Score')\n",
    "p = sns.lineplot(range(1,15),test_scores,marker='o',label='Test Score')"
   ]
  },
  {
   "cell_type": "markdown",
   "id": "c101f9a3",
   "metadata": {},
   "source": [
    "### Scaling data to improve accuracy"
   ]
  },
  {
   "cell_type": "code",
   "execution_count": 30,
   "id": "441e1430",
   "metadata": {},
   "outputs": [],
   "source": [
    "scaler = StandardScaler()"
   ]
  },
  {
   "cell_type": "code",
   "execution_count": 31,
   "id": "31f8db9a",
   "metadata": {},
   "outputs": [],
   "source": [
    "x[['Age', 'Cibil score']] = scaler.fit_transform(x[['Age', 'Cibil score']])"
   ]
  },
  {
   "cell_type": "code",
   "execution_count": 32,
   "id": "b0044267",
   "metadata": {},
   "outputs": [
    {
     "data": {
      "text/html": [
       "<div>\n",
       "<style scoped>\n",
       "    .dataframe tbody tr th:only-of-type {\n",
       "        vertical-align: middle;\n",
       "    }\n",
       "\n",
       "    .dataframe tbody tr th {\n",
       "        vertical-align: top;\n",
       "    }\n",
       "\n",
       "    .dataframe thead th {\n",
       "        text-align: right;\n",
       "    }\n",
       "</style>\n",
       "<table border=\"1\" class=\"dataframe\">\n",
       "  <thead>\n",
       "    <tr style=\"text-align: right;\">\n",
       "      <th></th>\n",
       "      <th>Age</th>\n",
       "      <th>Total Work Experience</th>\n",
       "      <th>Number of years in city</th>\n",
       "      <th>Cost to Request Ratio</th>\n",
       "      <th>Cibil score</th>\n",
       "      <th>Overdrafts past12months</th>\n",
       "    </tr>\n",
       "  </thead>\n",
       "  <tbody>\n",
       "    <tr>\n",
       "      <th>0</th>\n",
       "      <td>0.165817</td>\n",
       "      <td>2</td>\n",
       "      <td>6</td>\n",
       "      <td>0.842666</td>\n",
       "      <td>-2.345089</td>\n",
       "      <td>0</td>\n",
       "    </tr>\n",
       "    <tr>\n",
       "      <th>1</th>\n",
       "      <td>0.239326</td>\n",
       "      <td>5</td>\n",
       "      <td>2</td>\n",
       "      <td>0.791667</td>\n",
       "      <td>0.020304</td>\n",
       "      <td>0</td>\n",
       "    </tr>\n",
       "    <tr>\n",
       "      <th>2</th>\n",
       "      <td>0.067805</td>\n",
       "      <td>5</td>\n",
       "      <td>2</td>\n",
       "      <td>0.727273</td>\n",
       "      <td>0.389897</td>\n",
       "      <td>0</td>\n",
       "    </tr>\n",
       "    <tr>\n",
       "      <th>3</th>\n",
       "      <td>-0.373251</td>\n",
       "      <td>1</td>\n",
       "      <td>4</td>\n",
       "      <td>0.820232</td>\n",
       "      <td>0.966462</td>\n",
       "      <td>0</td>\n",
       "    </tr>\n",
       "    <tr>\n",
       "      <th>4</th>\n",
       "      <td>-0.471263</td>\n",
       "      <td>3</td>\n",
       "      <td>3</td>\n",
       "      <td>0.455581</td>\n",
       "      <td>1.483891</td>\n",
       "      <td>0</td>\n",
       "    </tr>\n",
       "  </tbody>\n",
       "</table>\n",
       "</div>"
      ],
      "text/plain": [
       "        Age  Total Work Experience  Number of years in city  \\\n",
       "0  0.165817                      2                        6   \n",
       "1  0.239326                      5                        2   \n",
       "2  0.067805                      5                        2   \n",
       "3 -0.373251                      1                        4   \n",
       "4 -0.471263                      3                        3   \n",
       "\n",
       "   Cost to Request Ratio  Cibil score  Overdrafts past12months  \n",
       "0               0.842666    -2.345089                        0  \n",
       "1               0.791667     0.020304                        0  \n",
       "2               0.727273     0.389897                        0  \n",
       "3               0.820232     0.966462                        0  \n",
       "4               0.455581     1.483891                        0  "
      ]
     },
     "execution_count": 32,
     "metadata": {},
     "output_type": "execute_result"
    }
   ],
   "source": [
    "x.head()"
   ]
  },
  {
   "cell_type": "markdown",
   "id": "53ec5456",
   "metadata": {},
   "source": [
    "### Split Data into Train and Test"
   ]
  },
  {
   "cell_type": "code",
   "execution_count": 33,
   "id": "d2872b40",
   "metadata": {},
   "outputs": [],
   "source": [
    "x_train, x_test, y_train, y_test = train_test_split(x, y, test_size=0.2, random_state=0)"
   ]
  },
  {
   "cell_type": "code",
   "execution_count": 34,
   "id": "908a020e",
   "metadata": {},
   "outputs": [
    {
     "data": {
      "text/plain": [
       "(7196, 6)"
      ]
     },
     "execution_count": 34,
     "metadata": {},
     "output_type": "execute_result"
    }
   ],
   "source": [
    "x_train.shape"
   ]
  },
  {
   "cell_type": "code",
   "execution_count": 35,
   "id": "8dd4940a",
   "metadata": {},
   "outputs": [
    {
     "data": {
      "text/plain": [
       "(1799, 6)"
      ]
     },
     "execution_count": 35,
     "metadata": {},
     "output_type": "execute_result"
    }
   ],
   "source": [
    "x_test.shape"
   ]
  },
  {
   "cell_type": "code",
   "execution_count": 36,
   "id": "c7481e43",
   "metadata": {},
   "outputs": [
    {
     "data": {
      "text/plain": [
       "(7196, 1)"
      ]
     },
     "execution_count": 36,
     "metadata": {},
     "output_type": "execute_result"
    }
   ],
   "source": [
    "y_train.shape"
   ]
  },
  {
   "cell_type": "code",
   "execution_count": 37,
   "id": "db0fd089",
   "metadata": {},
   "outputs": [
    {
     "data": {
      "text/plain": [
       "(1799, 1)"
      ]
     },
     "execution_count": 37,
     "metadata": {},
     "output_type": "execute_result"
    }
   ],
   "source": [
    "y_test.shape"
   ]
  },
  {
   "cell_type": "markdown",
   "id": "8d9cf65e",
   "metadata": {},
   "source": [
    "### Model Intilizing"
   ]
  },
  {
   "cell_type": "code",
   "execution_count": 38,
   "id": "5c5116a1",
   "metadata": {},
   "outputs": [],
   "source": [
    "knn = KNeighborsClassifier()"
   ]
  },
  {
   "cell_type": "code",
   "execution_count": 39,
   "id": "cbc5ac8c",
   "metadata": {},
   "outputs": [
    {
     "data": {
      "text/plain": [
       "KNeighborsClassifier()"
      ]
     },
     "execution_count": 39,
     "metadata": {},
     "output_type": "execute_result"
    }
   ],
   "source": [
    "knn.fit(x_train, y_train)"
   ]
  },
  {
   "cell_type": "code",
   "execution_count": 40,
   "id": "670172e7",
   "metadata": {},
   "outputs": [],
   "source": [
    "y_pred = knn.predict(x_test)"
   ]
  },
  {
   "cell_type": "markdown",
   "id": "7f770ca2",
   "metadata": {},
   "source": [
    "### Display Test Score"
   ]
  },
  {
   "cell_type": "code",
   "execution_count": 41,
   "id": "c72b3235",
   "metadata": {},
   "outputs": [],
   "source": [
    "test_score = round(knn.score(x_test, y_test)*100, 2)"
   ]
  },
  {
   "cell_type": "code",
   "execution_count": 42,
   "id": "d169d27a",
   "metadata": {},
   "outputs": [
    {
     "name": "stdout",
     "output_type": "stream",
     "text": [
      "Test Score:  69.87\n"
     ]
    }
   ],
   "source": [
    "print('Test Score: ', test_score)"
   ]
  },
  {
   "cell_type": "markdown",
   "id": "68c478b4",
   "metadata": {},
   "source": [
    "### Display Train Score"
   ]
  },
  {
   "cell_type": "code",
   "execution_count": 43,
   "id": "1abdb671",
   "metadata": {},
   "outputs": [],
   "source": [
    "train_score = round(knn.score(x_train, y_train)*100, 2)"
   ]
  },
  {
   "cell_type": "code",
   "execution_count": 44,
   "id": "3f9a2fc3",
   "metadata": {},
   "outputs": [
    {
     "name": "stdout",
     "output_type": "stream",
     "text": [
      "Train Score:  72.57\n"
     ]
    }
   ],
   "source": [
    "print('Train Score: ', train_score)"
   ]
  },
  {
   "cell_type": "markdown",
   "id": "5cd384c5",
   "metadata": {},
   "source": [
    "### Trying 1 to 14 k values for classifiers"
   ]
  },
  {
   "cell_type": "code",
   "execution_count": 46,
   "id": "0342d1b9",
   "metadata": {},
   "outputs": [],
   "source": [
    "train_scores =[]\n",
    "test_scores =[]\n",
    "\n",
    "for i in range(1,15):\n",
    "    \n",
    "    model = KNeighborsClassifier(i)\n",
    "    model.fit(x_train, y_train)\n",
    "    \n",
    "    train_scores.append(model.score(x_train, y_train))\n",
    "    test_scores.append(model.score(x_test, y_test))"
   ]
  },
  {
   "cell_type": "code",
   "execution_count": 47,
   "id": "fce3ff0e",
   "metadata": {},
   "outputs": [
    {
     "data": {
      "image/png": "[encoded data removed]",
      "text/plain": [
       "<Figure size 864x360 with 1 Axes>"
      ]
     },
     "metadata": {
      "needs_background": "light"
     },
     "output_type": "display_data"
    }
   ],
   "source": [
    "plt.figure(figsize=(12,5))\n",
    "p = sns.lineplot(range(1,15), train_scores, marker='*', label='Train Score')\n",
    "p = sns.lineplot(range(1,15), test_scores, marker='o', label='Test Score')"
   ]
  },
  {
   "cell_type": "markdown",
   "id": "9f181077",
   "metadata": {},
   "source": [
    "### Train Model with 14 k value"
   ]
  },
  {
   "cell_type": "code",
   "execution_count": 48,
   "id": "24e289c4",
   "metadata": {},
   "outputs": [],
   "source": [
    "knn = KNeighborsClassifier(14)"
   ]
  },
  {
   "cell_type": "code",
   "execution_count": 49,
   "id": "5ea92616",
   "metadata": {},
   "outputs": [
    {
     "data": {
      "text/plain": [
       "KNeighborsClassifier(n_neighbors=14)"
      ]
     },
     "execution_count": 49,
     "metadata": {},
     "output_type": "execute_result"
    }
   ],
   "source": [
    "knn.fit(x_train, y_train)"
   ]
  },
  {
   "cell_type": "code",
   "execution_count": 50,
   "id": "4001367b",
   "metadata": {},
   "outputs": [],
   "source": [
    "y_pred = knn.predict(x_test)"
   ]
  },
  {
   "cell_type": "markdown",
   "id": "c33c398f",
   "metadata": {},
   "source": [
    "### Display Train Score"
   ]
  },
  {
   "cell_type": "code",
   "execution_count": 51,
   "id": "51d4d4d1",
   "metadata": {},
   "outputs": [],
   "source": [
    "train_score = round(knn.score(x_train, y_train)*100, 2)"
   ]
  },
  {
   "cell_type": "code",
   "execution_count": 52,
   "id": "692f5011",
   "metadata": {},
   "outputs": [
    {
     "name": "stdout",
     "output_type": "stream",
     "text": [
      "Train Score:  70.07\n"
     ]
    }
   ],
   "source": [
    "print('Train Score: ', train_score)"
   ]
  },
  {
   "cell_type": "markdown",
   "id": "2e4079ab",
   "metadata": {},
   "source": [
    "### Display Test Score"
   ]
  },
  {
   "cell_type": "code",
   "execution_count": 53,
   "id": "5f7e73c4",
   "metadata": {},
   "outputs": [],
   "source": [
    "test_score = round(knn.score(x_test, y_test)*100, 2)"
   ]
  },
  {
   "cell_type": "code",
   "execution_count": 54,
   "id": "88b29b0f",
   "metadata": {},
   "outputs": [
    {
     "name": "stdout",
     "output_type": "stream",
     "text": [
      "Test Score:  71.71\n"
     ]
    }
   ],
   "source": [
    "print('Test Score: ', test_score)"
   ]
  },
  {
   "cell_type": "markdown",
   "id": "0c54035e",
   "metadata": {},
   "source": [
    "### Display Confusion Matrix"
   ]
  },
  {
   "cell_type": "code",
   "execution_count": 55,
   "id": "ecf4dfd2",
   "metadata": {},
   "outputs": [],
   "source": [
    "con_mat = confusion_matrix(y_test, y_pred)"
   ]
  },
  {
   "cell_type": "code",
   "execution_count": 56,
   "id": "c8506355",
   "metadata": {},
   "outputs": [
    {
     "name": "stdout",
     "output_type": "stream",
     "text": [
      "Confusion Matrix: \n",
      " [[1217    7    1    0    0    0    0    0    0    0    0    0    0]\n",
      " [ 160   53    2    2    2    1    0    0    0    0    0    0    0]\n",
      " [  54   29    8    4    1    1    0    0    0    0    0    0    0]\n",
      " [  22   22    3    1    2    0    0    0    2    2    0    0    1]\n",
      " [  20   20    4    2    1    0    0    0    0    0    1    1    2]\n",
      " [   7   14    1    0    0    1    0    0    1    1    0    0    0]\n",
      " [   4   11    2    0    0    2    0    0    1    1    0    2    0]\n",
      " [   4    8    1    3    1    1    4    0    2    2    0    0    0]\n",
      " [   5    6    0    1    5    0    0    0    3    2    0    0    0]\n",
      " [   2   10    2    1    2    1    2    1    3    3    0    0    0]\n",
      " [   2    3    0    0    1    0    1    1    2    1    0    0    1]\n",
      " [   0    6    1    0    1    0    0    0    0    0    0    3    0]\n",
      " [   0    1    0    0    0    1    0    1    0    1    0    1    0]]\n"
     ]
    }
   ],
   "source": [
    "print('Confusion Matrix: \\n', con_mat)"
   ]
  },
  {
   "cell_type": "markdown",
   "id": "4a54f149",
   "metadata": {},
   "source": [
    "### Display Accuracy Score"
   ]
  },
  {
   "cell_type": "code",
   "execution_count": 59,
   "id": "da604611",
   "metadata": {},
   "outputs": [
    {
     "name": "stdout",
     "output_type": "stream",
     "text": [
      "Accuracy Score is :  71.71\n"
     ]
    }
   ],
   "source": [
    "accuracy = round(accuracy_score(y_test, y_pred)*100, 2)\n",
    "\n",
    "print(\"Accuracy Score is : \",accuracy)"
   ]
  }
 ],
 "metadata": {
  "kernelspec": {
   "display_name": "Python 3 (ipykernel)",
   "language": "python",
   "name": "python3"
  },
  "language_info": {
   "codemirror_mode": {
    "name": "ipython",
    "version": 3
   },
   "file_extension": ".py",
   "mimetype": "text/x-python",
   "name": "python",
   "nbconvert_exporter": "python",
   "pygments_lexer": "ipython3",
   "version": "3.9.7"
  }
 },
 "nbformat": 4,
 "nbformat_minor": 5
}
